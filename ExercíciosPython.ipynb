{
  "nbformat": 4,
  "nbformat_minor": 0,
  "metadata": {
    "colab": {
      "name": "ExercíciosPython.ipynb",
      "provenance": [],
      "collapsed_sections": [],
      "authorship_tag": "ABX9TyOgwsVhjr+4tjoTAs2T8upw",
      "include_colab_link": true
    },
    "kernelspec": {
      "name": "python3",
      "display_name": "Python 3"
    },
    "language_info": {
      "name": "python"
    }
  },
  "cells": [
    {
      "cell_type": "markdown",
      "metadata": {
        "id": "view-in-github",
        "colab_type": "text"
      },
      "source": [
        "<a href=\"https://colab.research.google.com/github/Rodrigomoreira-bd/python_exercise/blob/main/Exerc%C3%ADciosPython.ipynb\" target=\"_parent\"><img src=\"https://colab.research.google.com/assets/colab-badge.svg\" alt=\"Open In Colab\"/></a>"
      ]
    },
    {
      "cell_type": "markdown",
      "source": [
        "#                         EXERCÍCIOS DE ESTRUTURA SEQUENCIAL"
      ],
      "metadata": {
        "id": "rNzQd-korwb9"
      }
    },
    {
      "cell_type": "markdown",
      "source": [
        "2_ Crie um programa para ler as medidas da largura e comprimento de um terreno retangular com uma\n",
        "casa decimal, bem como o valor do metro quadrado do terreno com duas casas decimais. Em seguida,\n",
        "o programa deve mostrar o valor da área do terreno, bem como o valor do preço do terreno, ambos com\n",
        "duas casas decimais, conforme exemplo.\n",
        "\n",
        "Digite a largura do terreno: 10.0\n",
        "Digite o comprimento do terreno: 30.0\n",
        "Digite o valor do metro quadrado: 200.00\n",
        "Area do terreno = 300.00\n",
        "Preco do terreno = 60000.00"
      ],
      "metadata": {
        "id": "aghsDFOgkkSW"
      }
    },
    {
      "cell_type": "code",
      "source": [
        "larg = float(input('Digite a Largura do terreno: '))\n",
        "cmprt = float(input('Digite o Comprimento do terreno: '))\n",
        "mq =  float(input('Digite o Valor do Metro Quadrado: '))\n",
        "\n",
        "area = cmprt * larg\n",
        "preco = mq * area\n",
        "\n",
        "print(f'Area do terreno = {area:.2f}')\n",
        "print(f'Preço do terreno = {preco:.2f}')\n"
      ],
      "metadata": {
        "id": "MLI_o-ZOk9G-"
      },
      "execution_count": null,
      "outputs": []
    },
    {
      "cell_type": "markdown",
      "source": [
        "3_Crie um programa para ler as medidas da base e altura de um retângulo. Em seguida, mostrar o valor\n",
        "da área, perímetro e diagonal deste retângulo, com quatro casas decimais, conforme exemplos.\n",
        "\n",
        "Base do retangulo: 4.0\n",
        "Altura do retangulo: 5.0\n",
        "AREA = 20.0000\n",
        "PERIMETRO = 18.0000\n",
        "DIAGONAL = 6.4031\n",
        "Exemplo"
      ],
      "metadata": {
        "id": "p1UXScBkk9tO"
      }
    },
    {
      "cell_type": "code",
      "source": [
        ""
      ],
      "metadata": {
        "id": "uE8_9bCHlmVf"
      },
      "execution_count": null,
      "outputs": []
    },
    {
      "cell_type": "markdown",
      "source": [
        "4_Crie um programa para ler o nome e idade de duas pessoas. Ao final mostrar uma mensagem com os\n",
        "nomes e a idade média entre essas pessoas, com uma casa decimal, conforme exemplo.\n",
        "\n",
        "Dados da primeira pessoa:\n",
        "Nome: Maria Silva\n",
        "Idade: 19\n",
        "Dados da segunda pessoa:\n",
        "Nome: Joao Melo\n",
        "Idade 20\n",
        "A idade média de Maria e Joaquim é de 19.5 anos"
      ],
      "metadata": {
        "id": "EC_hKaT0lnM3"
      }
    },
    {
      "cell_type": "code",
      "source": [
        "print('Dados da primeira pessoa:')\n",
        "n1 = str(input('Nome: '))\n",
        "i1 = int(input('Idade: '))\n",
        "print('Dados da segunda pessoa:')\n",
        "n2 = str(input('Nome: '))\n",
        "i2 = int(input('Idade: '))\n",
        "\n",
        "media = (i1+i2)/2\n",
        "\n",
        "print(f'A idade Média de {n1} e {n2} é de {media:.1f} anos')\n"
      ],
      "metadata": {
        "id": "v6zAenJhl5ac"
      },
      "execution_count": null,
      "outputs": []
    },
    {
      "cell_type": "markdown",
      "source": [
        "5_Crie um programa para ler dois valores inteiros X e Y, e depois mostrar na tela o valor da soma destes\n",
        "números.\n",
        "\n",
        "Digite o valor de X: 8\n",
        "Digite o valor de Y: 10\n",
        "SOMA = 18"
      ],
      "metadata": {
        "id": "DojeyhL5l53m"
      }
    },
    {
      "cell_type": "code",
      "source": [
        "x = int(input('Digite o valor de X: '))\n",
        "y = int(input('Digite o valor de Y: '))\n",
        "\n",
        "sm  = x + y\n",
        "\n",
        "print(f'SOMA = {sm}')\n"
      ],
      "metadata": {
        "id": "Fy6SSVcamACj"
      },
      "execution_count": null,
      "outputs": []
    },
    {
      "cell_type": "markdown",
      "source": [
        "7_Crie um programa para ler o valor \"r\" do raio de um círculo, e depois mostrar o valor da área do\n",
        "círculo com três casas decimais. A fórmula da área do círculo é a seguinte: 𝑎𝑟𝑒𝑎 = 𝜋. 𝑟􀬶. Você pode\n",
        "usar o valor de 𝜋 fornecido pela biblioteca da sua linguagem de programação, ou então, se preferir, use\n",
        "diretamente o valor 3.14159.\n",
        "\n",
        "Digite o valor do raio do circulo: 2.0\n",
        "AREA = 12.566"
      ],
      "metadata": {
        "id": "qOQSKdmMmJfO"
      }
    },
    {
      "cell_type": "code",
      "source": [
        "r = float(input('Digite o valor do raio do círculo: '))\n",
        "\n",
        "area = 3.14159 * (r**2)\n",
        "\n",
        "print(f'AREA = {area:.3f}')\n"
      ],
      "metadata": {
        "id": "jw2EfEesmV6U"
      },
      "execution_count": null,
      "outputs": []
    },
    {
      "cell_type": "markdown",
      "source": [
        "8_Crie um programa para ler o nome de um(a) funcionário(a), o valor que ele(a) recebe por hora, e a\n",
        "quantidade de horas trabalhadas por ele(a). Ao final, mostrar o valor do pagamento do funcionário com\n",
        "uma mensagem explicativa, conforme exemplo.\n",
        "\n",
        "Nome: Joao Silva\n",
        "Valor por hora: 50.00\n",
        "Horas trabalhadas: 60\n",
        "O pagamento para Joao Silva deve ser 3000.00"
      ],
      "metadata": {
        "id": "l17Yy4F0mWOn"
      }
    },
    {
      "cell_type": "code",
      "source": [
        "func = str(input('Nome: '))\n",
        "vph = float(input('Valor por hora: '))\n",
        "ht = int(input('horas trabalhadas: '))\n",
        "\n",
        "pgt = vph * ht\n",
        "\n",
        "print(f'O pagamento para: {func} deve ser {pgt:.2f}')\n"
      ],
      "metadata": {
        "id": "ufWen1w0mdcg"
      },
      "execution_count": null,
      "outputs": []
    },
    {
      "cell_type": "markdown",
      "source": [
        "9_Crie um programa para ler a distância total (em km) percorrida por um carro, bem como o total de\n",
        "combustível gasto por este carro ao percorrer tal distância. Seu programa deve mostrar o consumo\n",
        "médio do carro, com três casas decimais.\n",
        "\n",
        "Distancia percorrida: 500\n",
        "Combustível gasto: 38.5\n",
        "Consumo medio = 12.987"
      ],
      "metadata": {
        "id": "ewJWdWtbmeF7"
      }
    },
    {
      "cell_type": "code",
      "source": [
        "dp = int(input('Distância percorrida: '))\n",
        "cg = float(input('Combustível Gasto: '))\n",
        "\n",
        "cm = dp / cg\n",
        "\n",
        "print(f'Consume médio = {cm:.3f}')"
      ],
      "metadata": {
        "id": "Tt99Iyw1oH6b"
      },
      "execution_count": null,
      "outputs": []
    },
    {
      "cell_type": "markdown",
      "source": [
        "10_Crie um programa para ler três medidas A, B e C. Em seguida, calcular e mostrar (imprimir os dados\n",
        "com quatro casas decimais):\n",
        "a) a área do quadrado que tem lado A\n",
        "b) a área do triângulo retângulo que base A e altura B\n",
        "c) a área do trapézio que tem bases A e B, e altura C\n",
        "\n",
        "Digite a medida A: 4.0\n",
        "Digite a medida B: 3.5\n",
        "Digite a medida C: 5.2\n",
        "AREA DO QUADRADO = 16.0000\n",
        "AREA DO TRIANGULO = 7.0000\n",
        "AREA DO TRAPEZIO = 19.5000"
      ],
      "metadata": {
        "id": "0rs-HOBSoIU2"
      }
    },
    {
      "cell_type": "code",
      "source": [
        ""
      ],
      "metadata": {
        "id": "FntP8w5zoSMj"
      },
      "execution_count": null,
      "outputs": []
    },
    {
      "cell_type": "markdown",
      "source": [
        "11_Crie um programa para ler uma duração de tempo em segundos, daí imprimir na tela esta duração no\n",
        "formato horas:minutos:segundos.\n",
        "\n",
        "Digite a duracao em segundos: 300\n",
        "0:5:0"
      ],
      "metadata": {
        "id": "v4UE5ZHxoRSu"
      }
    },
    {
      "cell_type": "code",
      "source": [
        ""
      ],
      "metadata": {
        "id": "CCPY9B2GojTA"
      },
      "execution_count": null,
      "outputs": []
    },
    {
      "cell_type": "markdown",
      "source": [
        "#                                            EXERCÍCIOS DE ESTRUTURA CONDICIONAL"
      ],
      "metadata": {
        "id": "EBJByxl5oj7n"
      }
    },
    {
      "cell_type": "markdown",
      "source": [
        "1_Crie um programa em python para verificar a viabilidade de abastecer um carro com gasolina ou etanol."
      ],
      "metadata": {
        "id": "s5_PawIGbGzm"
      }
    },
    {
      "cell_type": "code",
      "execution_count": null,
      "metadata": {
        "id": "tCwjeSqYwvGv"
      },
      "outputs": [],
      "source": [
        "gas = float(input('Digite o Valor da Gasolina:'))\n",
        "eta = float(input('Digite o Valor do Etanol:'))\n",
        "\n",
        "res = eta/gas\n",
        "\n",
        "#formatando o resultado com duas casas decimais\n",
        "print(f'{res:.2f}')\n",
        "\n",
        "if res <= 0.71:\n",
        "  print('Abasteça com Etanol')\n",
        "else:\n",
        "  print('Abasteça com Gasolina')\n",
        "  "
      ]
    },
    {
      "cell_type": "markdown",
      "source": [
        "1_Crie um programa para ler as duas notas que um aluno obteve no primeiro e segundo semestres de\n",
        "uma disciplina anual. Em seguida, mostrar a nota final que o aluno obteve (com uma casa decimal) no\n",
        "ano juntamente com um texto explicativo. Caso a nota final do aluno seja inferior a 60.00, mostrar a\n",
        "mensagem \"REPROVADO\", conforme exemplos.\n",
        "\n",
        "Digite a primeira nota: 45.5\n",
        "Digite a segunda nota: 31.3\n",
        "NOTA FINAL = 76.8"
      ],
      "metadata": {
        "id": "UPnnQN4GpA4u"
      }
    },
    {
      "cell_type": "code",
      "source": [
        "psemestre = float(input('Digite a nota do primeiro semestre: '))\n",
        "ssemestre = float(input('Digite a note do Segundo Semestre: '))\n",
        "\n",
        "nfinal = psemestre + ssemestre\n",
        "\n",
        "#formatando o resultado com uma casa decimal\n",
        "print(f'{nfinal:.1f}')\n",
        "\n",
        "if nfinal < 60.0:\n",
        "  print('Reprovado')\n",
        "else:\n",
        "  print('Aprovado') \n",
        "  "
      ],
      "metadata": {
        "id": "2L6mPGvipR_U"
      },
      "execution_count": null,
      "outputs": []
    },
    {
      "cell_type": "markdown",
      "source": [
        "2_Crie um programa para ler os três coeficientes de uma equação do segundo grau. Usando a fórmula\n",
        "de Baskara, calcular e mostrar os valores das raízes x1 e x2 da equação com quatro casas decimais,\n",
        "conforme exemplo. Se a equação não possuir raízes reais, mostrar uma mensagem.\n",
        "\n",
        "Coeficiente a: 1\n",
        "Coeficiente b: 0\n",
        "Coeficiente c: -9\n",
        "X1 = 3.0000\n",
        "X2 = -3.0000"
      ],
      "metadata": {
        "id": "QLe6MeWspSsY"
      }
    },
    {
      "cell_type": "code",
      "source": [
        ""
      ],
      "metadata": {
        "id": "JmbDeMvYpbP2"
      },
      "execution_count": null,
      "outputs": []
    },
    {
      "cell_type": "markdown",
      "source": [
        "3_Crie um programa para ler três números inteiros. Em seguida, mostrar qual o menor dentre os três\n",
        "números lidos. Em caso de empate, mostrar apenas uma vez."
      ],
      "metadata": {
        "id": "b8jNiCK1pbog"
      }
    },
    {
      "cell_type": "code",
      "source": [
        "n1 = int(input('Digite o primeiro Número: '))\n",
        "n2 = int(input('Digite o segundo Número: '))\n",
        "n3 = int(input('Digite o terceiro Número: '))\n",
        "\n",
        "if n3 < n2 and n1:\n",
        "  print(f'{n3}')\n",
        "elif n2 < n3 and n1:\n",
        "  print(f'{n2}')\n",
        "else:\n",
        "  print(f'{n1}')\n",
        "  "
      ],
      "metadata": {
        "id": "4-M15Ru1pjVL"
      },
      "execution_count": null,
      "outputs": []
    },
    {
      "cell_type": "markdown",
      "source": [
        "4_Uma operadora de telefonia cobra R$ 50.00 por um plano básico que dá direito a 100 minutos de\n",
        "telefone. Cada minuto que exceder a franquia de 100 minutos custa R$ 2.00. Fazer um programa para\n",
        "ler a quantidade de minutos que uma pessoa consumiu, daí mostrar o valor a ser pago.\n",
        "\n",
        "Digite a quantidade de minutos: 22\n",
        "Valor a pagar: R$ 50.00"
      ],
      "metadata": {
        "id": "ykgV9iOupj90"
      }
    },
    {
      "cell_type": "code",
      "source": [
        ""
      ],
      "metadata": {
        "id": "UBM2emnYpwiJ"
      },
      "execution_count": null,
      "outputs": []
    },
    {
      "cell_type": "markdown",
      "source": [
        "5_Crie um programa para calcular o troco no processo de pagamento de um produto de uma mercearia.\n",
        "O programa deve ler o preço unitário do produto, a quantidade de unidades compradas deste produto,\n",
        "e o valor em dinheiro dado pelo cliente. Seu programa deve mostrar o valor do troco a ser devolvido\n",
        "ao cliente. Se o dinheiro dado pelo cliente não for suficiente, mostrar uma mensagem informando o\n",
        "valor restante conforme exemplo.\n",
        "\n",
        "Preço unitário do produto: 8.00\n",
        "Quantidade comprada: 2\n",
        "Dinheiro recebido: 20.00\n",
        "TROCO = 4.00"
      ],
      "metadata": {
        "id": "Uudds-DXpw17"
      }
    },
    {
      "cell_type": "code",
      "source": [
        "vproduto = float(input('Valor do Produto: R$ '))\n",
        "quantidade = int(input('Quantidade: '))\n",
        "\n",
        "res1 = quantidade * vproduto\n",
        "\n",
        "#exibindo a variável dentro de um texto usando interpolação\n",
        "print(f'Total: R${res1:.2f}')\n",
        "\n",
        "dinheiro = float(input('Valor recebido: R$ '))\n",
        "troco = dinheiro - res1\n",
        "\n",
        "if troco <0:\n",
        "  print(f'Ainda Falta Pagar: R$ {troco:.2f}')\n",
        "else:\n",
        "  print(f'Troco: R$ {troco:.2f}')\n",
        "  print('Boa Tarde!!')\n",
        "  "
      ],
      "metadata": {
        "id": "6j8xCNUWp6aw"
      },
      "execution_count": null,
      "outputs": []
    },
    {
      "cell_type": "markdown",
      "source": [
        "6_Crie um programa para ler a quantidade de glicose\n",
        "no sangue de uma pessoa e depois mostrar na tela a\n",
        "classificação desta glicose de acordo com a Referência:\n",
        "\n",
        "Normal Até 100 mg/dl\n",
        "Elevado\n",
        "Maior que 100 até\n",
        "140 mg/dl\n",
        "Diabetes Maior de 140 mg/dl\n",
        "\n",
        "Digite a medida da glicose: 90.0\n",
        "Classificacao: normal"
      ],
      "metadata": {
        "id": "paJdbbeBp68E"
      }
    },
    {
      "cell_type": "code",
      "source": [
        "mglicose = int(input('Digite a medida da glicose mg/dl: '))\n",
        "\n",
        "if mglicose >=140:\n",
        "  print(f'{mglicose}mg/dl Diabetes')\n",
        "elif mglicose >=100 <140:\n",
        "  print(f'{mglicose}mg/dl Glicose Elevada')\n",
        "else:\n",
        "  print(f'{mglicose}mg/dl Glicose Normal')\n",
        "  "
      ],
      "metadata": {
        "id": "hhcb8QDIqL2x"
      },
      "execution_count": null,
      "outputs": []
    },
    {
      "cell_type": "markdown",
      "source": [
        "7_No arremesso de dardo, o atleta tem três chances para lançar o dardo à maior distância que conseguir.\n",
        "Você deve criar um programa para, dadas as medidas das três tentativas de lançamento, informar qual\n",
        "foi a maior.\n",
        "\n",
        "Digite as tres distancias:\n",
        "83.21\n",
        "79.53\n",
        "89.15\n",
        "MAIOR DISTANCIA = 89.15"
      ],
      "metadata": {
        "id": "_R61mX35qRbi"
      }
    },
    {
      "cell_type": "code",
      "source": [
        "d1 = float(input('Digite a primeira distância: '))\n",
        "d2 = float(input('Digite a segunda distância: '))\n",
        "d3 = float(input('Digite a terceira distância: '))\n",
        "\n",
        "if d1 > d3 and d2:\n",
        "  print(f'Maior distância = {d1}')\n",
        "elif d2 > d3 and d1:\n",
        "  print(f'Maior distância = {d2}')\n",
        "elif d3 > d2 and d1:\n",
        "  print(f'Maior distância = {d3}')\n",
        "  "
      ],
      "metadata": {
        "id": "nFgnECTWqVrA"
      },
      "execution_count": null,
      "outputs": []
    },
    {
      "cell_type": "markdown",
      "source": [
        "8_Deseja-se converter uma medida de temperatura da escala Celsius para Fahrenheit ou vice-versa. Para\n",
        "isso, você deve construir um programa que leia a letra \"C\" ou \"F\" indicando em qual escala vai ser\n",
        "informada uma temperatura. Em seguida o programa deve mostrar a temperatura na outra escala com\n",
        "duas casas decimais. A seguir é dada a fórmula para converter de Fahrenheit para Celsius.\n",
        "\n",
        "Voce vai digitar a temperatura em qual escala (C/F)? F\n",
        "Digite a temperatura em Fahrenheit: 75.00\n",
        "Temperatura equivalente em Celsius: 23.89\n",
        "Exemplo 2:\n",
        "Voce vai digitar a temperatura em qual escala (C/F)? C\n",
        "Digite a temperatura em Celsius: 28.15\n",
        "Temperatura equivalente em Fahrenheit: 82.67\n",
        "Problema \""
      ],
      "metadata": {
        "id": "j44J7fEQqWH_"
      }
    },
    {
      "cell_type": "code",
      "source": [
        ""
      ],
      "metadata": {
        "id": "JEVlVxBcqpG4"
      },
      "execution_count": null,
      "outputs": []
    },
    {
      "cell_type": "markdown",
      "source": [
        "9_Uma lanchonete possui vários produtos. Cada produto possui um código\n",
        "e um preço. Você deve fazer um programa para ler o código e a\n",
        "quantidade comprada de um produto (suponha um código válido), e daí\n",
        "informar qual o valor a ser pago, com duas casas decimais, conforme\n",
        "tabela de produtos ao lado.\n",
        "\n",
        "Código do\n",
        "produto\n",
        "Preço do\n",
        "produto\n",
        "1 R$ 5.00\n",
        "2 R$ 3.50\n",
        "3 R$ 4.80\n",
        "4 R$ 8.90\n",
        "5 R$ 7.32\n",
        "\n",
        "Codigo do produto comprado: 1\n",
        "Quantidade comprada: 3\n",
        "Valor a pagar: R$ 15.00"
      ],
      "metadata": {
        "id": "e5urWCUJqt7p"
      }
    },
    {
      "cell_type": "code",
      "source": [
        "cp = int(input('Código do Produto Comprado: '))\n",
        "quantidade = int(input('Quantidade Comprada: '))\n",
        "\n",
        "if cp == 1:\n",
        "  total = quantidade * 5.0\n",
        "  print(f'Valor a Pagar: {total:.2f}')\n",
        "elif cp == 2:\n",
        "  total = quantidade * 3.5\n",
        "  print(f'Valor a Pagar: {total:.2f}')\n",
        "elif cp == 3:\n",
        "  total = quantidade * 4.8\n",
        "  print(f'Valor a Pagar: {total:.2f}')\n",
        "elif cp == 4:\n",
        "  total = quantidade * 8.9\n",
        "  print(f'Valor a Pagar: {total:.2f}')\n",
        "elif cp == 5:\n",
        "  total = quantidade * 7.32\n",
        "  print(f'Valor a Pagar: R${total:.2f}')\n",
        "else:\n",
        "  print('Produto não cadastrado!')\n",
        "  "
      ],
      "metadata": {
        "id": "T0WzmWixq9SV"
      },
      "execution_count": null,
      "outputs": []
    },
    {
      "cell_type": "markdown",
      "source": [
        "(MATCH CASE)_Uma lanchonete possui vários produtos. Cada produto possui um código e um preço. Você deve fazer um programa para ler o código e a quantidade comprada de um produto (suponha um código válido), e daí informar qual o valor a ser pago, com duas casas decimais, conforme tabela de produtos ao lado.\n",
        "\n",
        "Código do produto Preço do produto 1 R 5.002R  3.50 3 R 4.804R  8.90 5 R$ 7.32\n",
        "\n",
        "Codigo do produto comprado: 1 Quantidade comprada: 3 Valor a pagar: R$ 15.00"
      ],
      "metadata": {
        "id": "EqyIt5vRYmL8"
      }
    },
    {
      "cell_type": "code",
      "source": [
        ""
      ],
      "metadata": {
        "id": "ZbPB1DLeYoZM"
      },
      "execution_count": null,
      "outputs": []
    },
    {
      "cell_type": "markdown",
      "source": [
        "10_Fazer um programa para ler dois números inteiros, e dizer se um número é múltiplo do outro. Os\n",
        "números podem ser digitados em qualquer ordem.\n",
        "\n",
        "Digite dois numeros inteiros:\n",
        "6\n",
        "24\n",
        "Sao multiplos"
      ],
      "metadata": {
        "id": "iimongbWrAF1"
      }
    },
    {
      "cell_type": "code",
      "source": [
        ""
      ],
      "metadata": {
        "id": "sdGDKfKrrIF4"
      },
      "execution_count": null,
      "outputs": []
    },
    {
      "cell_type": "markdown",
      "source": [
        "11_Uma empresa vai conceder um aumento percentual de\n",
        "salário aos seus funcionários dependendo de quanto\n",
        "cada pessoa ganha, conforme tabela ao lado. Fazer um\n",
        "programa para ler o salário de uma pessoa, daí mostrar\n",
        "qual o novo salário desta pessoa depois do aumento,\n",
        "quanto foi o aumento e qual foi a porcentagem de\n",
        "aumento.\n",
        "\n",
        "Salário atual Aumento\n",
        "Até R$ 1000.00 20%\n",
        "Acima de R$ 1000.00\n",
        "até R$ 3000.00\n",
        "15%\n",
        "Acima de R$ 3000.00\n",
        "até R$ 8000.00\n",
        "10%\n",
        "Acima de R$ 8000.00 5%\n",
        "\n",
        "Digite o salario da pessoa: 2500.00\n",
        "Novo salario = R$ 2875.00\n",
        "Aumento = R$ 375.00\n",
        "Porcentagem = 15 %"
      ],
      "metadata": {
        "id": "MZd64nMSrQb7"
      }
    },
    {
      "cell_type": "code",
      "source": [
        "salarioA = float(input('Digite o Salário da Pessoa: R$'))\n",
        "\n",
        "if salarioA >8000:\n",
        "\n",
        "  #expressão que retorna o novo salário com 5% de aumento.  \n",
        "  Nsalario = salarioA + (salarioA*5/100) \n",
        "  \n",
        "  #expressão que retorna o valor do aumento em reais\n",
        "  aumento = Nsalario - salarioA \n",
        "\n",
        "  print(f'Novo Salário: R${Nsalario:.2f}')\n",
        "  print(f'Aumento: R${aumento:.2f}')\n",
        "\n",
        "  #gambiarra\n",
        "  print('Porcentagem = 5%') \n",
        "\n",
        "elif salarioA >3000 <=8000:\n",
        "  Nsalario = salarioA + (salarioA*10/100)\n",
        "  aumento = Nsalario - salarioA\n",
        "  print(f'Novo Salário: {Nsalario:.2f}')\n",
        "  print(f'Aumento: {aumento:.2f}')\n",
        "  print('Porcentagem = 10%')\n",
        "elif salarioA >1000 <=3000:\n",
        "  Nsalario = salarioA + (salarioA*15/100)\n",
        "  aumento = Nsalario - salarioA\n",
        "  print(f'Novo Salário: {Nsalario:.2f}')\n",
        "  print(f'Aumento: {aumento:.2f}')\n",
        "  print('Porcentagem = 15%')\n",
        "elif salarioA <=1000:\n",
        "  Nsalario = salarioA + (salarioA*20/100)\n",
        "  aumento = Nsalario - salarioA\n",
        "  print(f'Novo Salário: {Nsalario:.2f}')\n",
        "  print(f'Aumento: {aumento:.2f}')\n",
        "  print('Porcentagem = 20%')\n",
        "  "
      ],
      "metadata": {
        "id": "wgbk28B5rYVh"
      },
      "execution_count": null,
      "outputs": []
    },
    {
      "cell_type": "markdown",
      "source": [
        "(MATCH CASE)_Uma empresa vai conceder um aumento percentual de salário aos seus funcionários dependendo de quanto cada pessoa ganha, conforme tabela ao lado. Fazer um programa para ler o salário de uma pessoa, daí mostrar qual o novo salário desta pessoa depois do aumento, quanto foi o aumento e qual foi a porcentagem de aumento.\n",
        "\n",
        "Salário atual Aumento Até R 1000.0020AcimadeR  1000.00 até R 3000.0015AcimadeR  3000.00 até R 8000.0010AcimadeR  8000.00 5%\n",
        "\n",
        "Digite o salario da pessoa: 2500.00 Novo salario = R 2875.00Aumento=R  375.00 Porcentagem = 15 %"
      ],
      "metadata": {
        "id": "ps4MbxC5aS-s"
      }
    },
    {
      "cell_type": "code",
      "source": [
        ""
      ],
      "metadata": {
        "id": "ofpR-06MaO8-"
      },
      "execution_count": null,
      "outputs": []
    },
    {
      "cell_type": "markdown",
      "source": [
        "12_Leia a hora inicial e a hora final de um jogo. A seguir calcule a duração do jogo, sabendo que o mesmo\n",
        "pode começar em um dia e terminar em outro, tendo uma duração mínima de 1 hora e máxima de 24\n",
        "horas.\n",
        "\n",
        "Hora inicial: 16\n",
        "Hora final: 2\n",
        "O JOGO DUROU 10 HORA(S)"
      ],
      "metadata": {
        "id": "bzmMERTlrcXB"
      }
    },
    {
      "cell_type": "code",
      "source": [
        ""
      ],
      "metadata": {
        "id": "0Lgfe4qRriWY"
      },
      "execution_count": null,
      "outputs": []
    },
    {
      "cell_type": "markdown",
      "source": [
        "13_Leia os valores das coordenadas X e Y de um ponto no plano\n",
        "cartesiano. A seguir, determine qual o quadrante ao qual pertence o\n",
        "ponto (Q1, Q2, Q3 ou Q4). Se o ponto estiver na origem, escreva a\n",
        "mensagem “Origem”. Se o ponto estiver sobre um dos eixos escreva\n",
        "“Eixo X” ou “Eixo Y”, conforme for a situação.\n",
        "\n",
        "Valor de X: 4.5\n",
        "Valor de Y: -2.2\n",
        "Q4\n",
        "Exemplo 2:\n",
        "Valor de X: 3.1\n",
        "Valor de Y: 2.0\n",
        "Q1\n",
        "Exemplo 3:\n",
        "Valor de X: 0\n",
        "Valor de Y: 0\n",
        "Origem\n",
        "Exemplo 4:"
      ],
      "metadata": {
        "id": "mNfz8RA8rjW5"
      }
    },
    {
      "cell_type": "code",
      "source": [
        ""
      ],
      "metadata": {
        "id": "UFGmSsAdrv3N"
      },
      "execution_count": null,
      "outputs": []
    },
    {
      "cell_type": "markdown",
      "source": [
        "#                                          EXERCÍCIOS DE ESTRUTURAS REPETITIVAS"
      ],
      "metadata": {
        "id": "njbWwzlh-MA6"
      }
    },
    {
      "cell_type": "markdown",
      "source": [
        "1_ Leia uma quantidade indeterminada de duplas de valores inteiros X e Y. Escreva para cada X e Y uma\n",
        "mensagem que indique se estes valores foram digitados em ordem crescente ou decrescente. O\n",
        "programa deve finalizar quando forem digitados dois valores iguais.\n",
        "\n",
        "Digite dois numeros:\n",
        "5\n",
        "4\n",
        "DECRESCENTE!\n",
        "Digite outros dois numeros:\n",
        "3\n",
        "8\n",
        "CRESCENTE!\n",
        "Digite outros dois numeros:\n",
        "2\n",
        "2"
      ],
      "metadata": {
        "id": "x5KgUBRHDIKg"
      }
    },
    {
      "cell_type": "code",
      "source": [
        ""
      ],
      "metadata": {
        "id": "8g2zk3xoDGDE"
      },
      "execution_count": null,
      "outputs": []
    },
    {
      "cell_type": "markdown",
      "source": [
        "2_ Faça um programa para ler um número indeterminado de dados, contendo cada um, a idade de um\n",
        "indivíduo. O último dado, que não entrará nos cálculos, contém um valor de idade negativa. Calcular\n",
        "e imprimir a idade média deste grupo de indivíduos. Se for entrado um valor negativo na primeira vez,\n",
        "mostrar a mensagem \"IMPOSSIVEL CALCULAR\"\n",
        "\n",
        "Digite as idades:\n",
        "31\n",
        "27\n",
        "46\n",
        "-5\n",
        "MEDIA = 34.67"
      ],
      "metadata": {
        "id": "K0tGMtkNDWVR"
      }
    },
    {
      "cell_type": "code",
      "source": [
        ""
      ],
      "metadata": {
        "id": "4pvijv1HDgPM"
      },
      "execution_count": null,
      "outputs": []
    },
    {
      "cell_type": "markdown",
      "source": [
        "3_Escreva um programa que repita a leitura de uma senha até que ela seja válida. Para cada leitura de\n",
        "senha incorreta informada, escrever a mensagem \"Senha Invalida! Tente novamente:\". Quando a senha\n",
        "for informada corretamente deve ser impressa a mensagem \"Acesso Permitido\" e o algoritmo\n",
        "encerrado. Considere que a senha correta é o valor 2002.\n",
        "\n",
        "Digite a senha: 2312\n",
        "Senha Invalida! Tente novamente: 2010\n",
        "Senha Invalida! Tente novamente: 1022\n",
        "Senha Invalida! Tente novamente: 2002\n",
        "Acesso permitido!"
      ],
      "metadata": {
        "id": "dja-cab3Dfd3"
      }
    },
    {
      "cell_type": "code",
      "source": [
        "while senha != 2002:\n",
        "  print('Senha Inválida! Tente novamente')\n",
        "  senha = int(input('Digite a senha: '))\n",
        "  \n",
        "print('Acesso Permitido! ')\n"
      ],
      "metadata": {
        "id": "v4EdJUsHDqUR"
      },
      "execution_count": null,
      "outputs": []
    },
    {
      "cell_type": "markdown",
      "source": [
        "4_Escreva um programa para ler as coordenadas (X,Y) de uma quantidade indeterminada de pontos no\n",
        "sistema cartesiano. Para cada ponto escrever o quadrante a que ele pertence (Q1, Q2, Q3 ou Q4). O\n",
        "algoritmo será encerrado quando pelo menos uma de duas coordenadas for NULA (nesta situação sem\n",
        "escrever mensagem alguma).\n",
        "\n",
        "Digite os valores das coordenadas X e Y:\n",
        "2\n",
        "2\n",
        "QUADRANTE Q1\n",
        "Digite os valores das coordenadas X e Y:\n",
        "3\n",
        "-2\n",
        "QUADRANTE Q4\n",
        "Digite os valores das coordenadas X e Y:\n",
        "-8\n",
        "-1\n",
        "QUADRANTE Q3\n",
        "Digite os valores das coordenadas X e Y:\n",
        "-7\n",
        "1\n",
        "QUADRANTE Q2\n",
        "Digite os valores das coordenadas X e Y:\n",
        "0\n",
        "2"
      ],
      "metadata": {
        "id": "EmwLVzJNDutw"
      }
    },
    {
      "cell_type": "code",
      "source": [
        ""
      ],
      "metadata": {
        "id": "QEspx6NoD-eg"
      },
      "execution_count": null,
      "outputs": []
    },
    {
      "cell_type": "markdown",
      "source": [
        "5_Faça um programa que leia as notas referentes às duas avaliações de um aluno. Calcule e imprima a\n",
        "média semestral. Faça com que o algoritmo só aceite notas válidas (uma nota válida deve pertencer ao\n",
        "intervalo [0,10]). Cada nota deve ser validada separadamente\n",
        "\n",
        "Digite a primeira nota: 3.5\n",
        "Digite a segunda nota: 10.0\n",
        "MEDIA = 6.75"
      ],
      "metadata": {
        "id": "ETazN5j_EC3G"
      }
    },
    {
      "cell_type": "code",
      "source": [
        "pn = float(print('Digite a primeira nota: '))\n",
        "sn = float(print('Digite a segunda nota: '))\n",
        "\n",
        "md = (pn+sn)/2\n"
      ],
      "metadata": {
        "id": "sG4XExcwEIo2"
      },
      "execution_count": null,
      "outputs": []
    },
    {
      "cell_type": "markdown",
      "source": [
        "6_Um posto de combustíveis deseja determinar qual de seus produtos tem a preferência de seus clientes.\n",
        "Escreva um algoritmo para ler o tipo de combustível abastecido (codificado da seguinte forma:\n",
        "1.Álcool 2.Gasolina 3.Diesel 4.Fim). Caso o usuário informe um código inválido (fora da faixa de 1 a\n",
        "4) deve ser solicitado um novo código (até que seja válido). O programa será encerrado quando o\n",
        "código informado for o número 4, devendo então mostrar a mensagem \"MUITO OBRIGADO\", bem\n",
        "como as quantidades de cada combustível.\n",
        "\n",
        "Informe um codigo (1, 2, 3) ou 4 para parar: 8\n",
        "Informe um codigo (1, 2, 3) ou 4 para parar: 1\n",
        "Informe um codigo (1, 2, 3) ou 4 para parar: 7\n",
        "Informe um codigo (1, 2, 3) ou 4 para parar: 2\n",
        "Informe um codigo (1, 2, 3) ou 4 para parar: 2\n",
        "Informe um codigo (1, 2, 3) ou 4 para parar: 4\n",
        "MUITO OBRIGADO\n",
        "Alcool: 1\n",
        "Gasolina: 2\n",
        "Diesel: 0"
      ],
      "metadata": {
        "id": "FOTji5tsEJCn"
      }
    },
    {
      "cell_type": "code",
      "source": [
        "código = 0\n",
        "\n",
        "while codigo != 4:\n",
        "  código = int(input('Informe um código (1,2,3) ou 4 para parar: '))\n",
        "  "
      ],
      "metadata": {
        "id": "XPVNkv5FEO2S"
      },
      "execution_count": null,
      "outputs": []
    },
    {
      "cell_type": "markdown",
      "source": [
        "7_O programa deve ler um valor inteiro X indefinidas vezes. (O programa irá parar quando o valor de X\n",
        "for igual a 0). Para cada X lido, imprima a soma dos 5 pares consecutivos a partir de X, inclusive o X\n",
        ", se for par. Se o valor de entrada for 4, por exemplo, a saída deve ser 40, que é o resultado da operação:\n",
        "4+6+8+10+12, enquanto que se o valor de entrada for 11, por exempo, a saída deve ser 80, que é a\n",
        "soma de 12+14+16+18+20.\n",
        "\n",
        "Digite um numero inteiro: 4\n",
        "SOMA = 40\n",
        "Digite um numero inteiro: 11\n",
        "SOMA = 80\n",
        "Digite um numero inteiro: 0"
      ],
      "metadata": {
        "id": "odJxsPXdEPT3"
      }
    },
    {
      "cell_type": "code",
      "source": [
        ""
      ],
      "metadata": {
        "id": "E0hPM4gwETKp"
      },
      "execution_count": null,
      "outputs": []
    },
    {
      "cell_type": "markdown",
      "source": [
        "8_Ler um número inteiro N, daí mostrar na tela a tabuada de N para 1 a 10, conforme exemplo.\n",
        "\n",
        "Deseja a tabuada para qual valor? 4\n",
        "4 x 1 = 4\n",
        "4 x 2 = 8\n",
        "4 x 3 = 12\n",
        "4 x 4 = 16\n",
        "4 x 5 = 20\n",
        "4 x 6 = 24\n",
        "4 x 7 = 28\n",
        "4 x 8 = 32\n",
        "4 x 9 = 36\n",
        "4 x 10 = 40"
      ],
      "metadata": {
        "id": "ro2jmXWZEZjc"
      }
    },
    {
      "cell_type": "code",
      "source": [
        "valor = int(input('Deseja a tabuada para qual valor? '))\n",
        "cont = 0\n",
        "\n",
        "while cont <= 9:\n",
        "  cont = cont + 1\n",
        "  result = valor * cont\n",
        "  print(f'{valor} X {cont} = {result}')\n",
        "  "
      ],
      "metadata": {
        "id": "hxdFufQNEmbk"
      },
      "execution_count": null,
      "outputs": []
    },
    {
      "cell_type": "markdown",
      "source": [
        "9_Leia 2 valores inteiros X e Y (em qualquer ordem). A seguir, calcule e mostre a soma dos números\n",
        "impares entre eles.\n",
        "\n",
        "Digite dois numeros:\n",
        "2\n",
        "9\n",
        "SOMA DOS IMPARES = 15"
      ],
      "metadata": {
        "id": "n7xeY2f9Emxu"
      }
    },
    {
      "cell_type": "code",
      "source": [
        ""
      ],
      "metadata": {
        "id": "-FX5y6zREvNX"
      },
      "execution_count": null,
      "outputs": []
    },
    {
      "cell_type": "markdown",
      "source": [
        "10_Leia um valor inteiro X. Em seguida mostre os ímpares de 1 até X, um valor por linha, inclusive o X,\n",
        "se for o caso.\n",
        "\n",
        "Digite o valor de X: 8\n",
        "1\n",
        "3\n",
        "5\n",
        "7"
      ],
      "metadata": {
        "id": "ssotWDFOEvmq"
      }
    },
    {
      "cell_type": "code",
      "source": [
        ""
      ],
      "metadata": {
        "id": "Zn2Hh2reE1rX"
      },
      "execution_count": null,
      "outputs": []
    },
    {
      "cell_type": "markdown",
      "source": [
        "11_Leia um valor inteiro N. Este valor será a quantidade de valores inteiros X que serão lidos em seguida.\n",
        "Mostre quantos destes valores X estão dentro do intervalo [10,20] e quantos estão fora do intervalo,\n",
        "conforme exemplo\n",
        "\n",
        "Quantos numeros voce vai digitar? 5\n",
        "Digite um numero: 14\n",
        "Digite um numero: 35\n",
        "Digite um numero: 10\n",
        "Digite um numero: 131\n",
        "Digite um numero: 8\n",
        "2 DENTRO\n",
        "3 FORA"
      ],
      "metadata": {
        "id": "Tin5v3YjE17W"
      }
    },
    {
      "cell_type": "code",
      "source": [
        ""
      ],
      "metadata": {
        "id": "4QrxOIM-E8nP"
      },
      "execution_count": null,
      "outputs": []
    },
    {
      "cell_type": "markdown",
      "source": [
        "12_Leia um valor inteiro N. Este valor será a quantidade de números inteiros que serão lidos em seguida.\n",
        "Para cada valor lido, mostre uma mensagem dizendo se este valor lido é PAR ou IMPAR, e também\n",
        "se é POSITIVO ou NEGATIVO. No caso do valor ser igual a zero (0), seu programa deverá imprimir\n",
        "apenas NULO.\n",
        "\n",
        "Quantos numeros voce vai digitar? 4\n",
        "Digite um numero: -5\n",
        "IMPAR NEGATIVO\n",
        "Digite um numero: 0\n",
        "NULO\n",
        "Digite um numero: 3\n",
        "IMPAR POSITIVO\n",
        "Digite um numero: -4\n",
        "PAR NEGATIVO"
      ],
      "metadata": {
        "id": "MRb75HIqE9J-"
      }
    },
    {
      "cell_type": "code",
      "source": [
        ""
      ],
      "metadata": {
        "id": "6iO9oq8xFDPw"
      },
      "execution_count": null,
      "outputs": []
    },
    {
      "cell_type": "markdown",
      "source": [
        "13_Leia um valor inteiro N, que representa o número de casos de teste que vem a seguir. Cada caso de\n",
        "teste consiste de 3 valores reais, para os quais você deverá calcular e mostrar a média ponderada, sendo\n",
        "que o primeiro valor tem peso 2, o segundo valor tem peso 3 e o terceiro valor tem peso 5. Vale lembrar\n",
        "que a média ponderada é a soma de todos os valores multiplicados pelo seu respectivo peso, dividida\n",
        "pela soma dos pesos.\n",
        "\n",
        "Quantos casos voce vai digitar? 3\n",
        "Digite tres numeros:\n",
        "6.5\n",
        "4.3\n",
        "6.2\n",
        "MEDIA = 5.7\n",
        "Digite tres numeros:\n",
        "5.1\n",
        "4.2\n",
        "8.1"
      ],
      "metadata": {
        "id": "TleBl8DiFD_s"
      }
    },
    {
      "cell_type": "code",
      "source": [
        "qcasos = int(input('Quantos casos você vai digitar?: '))\n"
      ],
      "metadata": {
        "id": "MnA-krFkFHY4"
      },
      "execution_count": null,
      "outputs": []
    },
    {
      "cell_type": "markdown",
      "source": [
        "14_Escreva um algoritmo que leia dois números e imprima o resultado da divisão do primeiro pelo\n",
        "segundo. Caso não for possível, mostre a mensagem “DIVISAO IMPOSSIVEL”.\n",
        "\n",
        "Quantos casos voce vai digitar? 3\n",
        "Entre com o numerador: 3\n",
        "Entre com o denominador: -2\n",
        "DIVISAO = -1.50\n",
        "Entre com o numerador: -8\n",
        "Entre com o denominador: 0\n",
        "DIVISAO IMPOSSIVEL\n",
        "Entre com o numerador: 0\n",
        "Entre com o denominador: 8\n",
        "DIVISAO = 0.00"
      ],
      "metadata": {
        "id": "dnRiGDIyFN-3"
      }
    },
    {
      "cell_type": "code",
      "source": [
        ""
      ],
      "metadata": {
        "id": "nF86T8HUFTxQ"
      },
      "execution_count": null,
      "outputs": []
    },
    {
      "cell_type": "markdown",
      "source": [
        "14_Fazer um programa para ler um número natural N (valor máximo: 15), e depois calcular e mostrar o\n",
        "fatorial de N.\n",
        "\n",
        "Digite o valor de N: 4\n",
        "FATORIAL = 24"
      ],
      "metadata": {
        "id": "yyYPDTflFVzc"
      }
    },
    {
      "cell_type": "code",
      "source": [
        ""
      ],
      "metadata": {
        "id": "rSd_vWMNFfbJ"
      },
      "execution_count": null,
      "outputs": []
    },
    {
      "cell_type": "markdown",
      "source": [
        "15_Maria acabou de iniciar seu curso de graduação na faculdade de medicina e precisa de sua ajuda para\n",
        "organizar os experimentos de um laboratório o qual ela é responsável. Ela quer saber no final do ano,\n",
        "quantas cobaias foram utilizadas no laboratório e o percentual de cada tipo de cobaia utilizada. Este\n",
        "laboratório em especial utiliza três tipos de cobaias: sapos, ratos e coelhos. Para obter estas\n",
        "informações, ela sabe exatamente o número de experimentos que foram realizados, o tipo de cobaia\n",
        "utilizada e a quantidade de cobaias utilizadas em cada experimento. Faça um programa que leia um\n",
        "valor inteiro N que indica os vários casos de teste que vem a seguir. Cada caso de teste contém um\n",
        "inteiro que representa a quantidade de cobaias utilizadas e uma letra ('C', 'R' ou 'S'), indicando o tipo\n",
        "de cobaia (R:Rato S:Sapo C:Coelho). Apresente o total de cobaias utilizadas, o total de cada tipo de\n",
        "cobaia utilizada e o percentual de cada uma em relação ao total de cobaias utilizadas, sendo que o\n",
        "percentual deve ser apresentado com dois dígitos após o ponto.\n",
        "\n",
        "Quantos casos de teste serao digitados? 10\n",
        "Quantidade de cobaias: 10\n",
        "Tipo de cobaia: C\n",
        "Quantidade de cobaias: 6\n",
        "Tipo de cobaia: R\n",
        "Quantidade de cobaias: 15\n",
        "Tipo de cobaia: S\n",
        "Quantidade de cobaias: 5\n",
        "Tipo de cobaia: C\n",
        "Quantidade de cobaias: 14\n",
        "Tipo de cobaia: R\n",
        "Quantidade de cobaias: 9\n",
        "Tipo de cobaia: C\n",
        "Quantidade de cobaias: 6\n",
        "Tipo de cobaia: R\n",
        "Quantidade de cobaias: 8\n",
        "Tipo de cobaia: S\n",
        "Quantidade de cobaias: 5\n",
        "Tipo de cobaia: C\n",
        "Quantidade de cobaias: 14\n",
        "Tipo de cobaia: R\n",
        "RELATORIO FINAL:\n",
        "Total: 92 cobaias\n",
        "Total de coelhos: 29\n",
        "Total de ratos: 40\n",
        "Total de sapos: 23\n",
        "Percentual de coelhos: 31.52\n",
        "Percentual de ratos: 43.48\n",
        "Percentual de sapos: 25.00"
      ],
      "metadata": {
        "id": "vwR9SPsqFftM"
      }
    },
    {
      "cell_type": "code",
      "source": [
        ""
      ],
      "metadata": {
        "id": "PmMkcH_iFsaA"
      },
      "execution_count": null,
      "outputs": []
    },
    {
      "cell_type": "markdown",
      "source": [
        "16_Criar um programa que conte os números até 10 e apresenta na tela o número e o id da variável (objeto)"
      ],
      "metadata": {
        "id": "EVkZKeU_uNA8"
      }
    },
    {
      "cell_type": "code",
      "source": [
        "cont = 1\n",
        "\n",
        "while cont <= 10:\n",
        "  print(cont)\n",
        "  print(id(cont))\n",
        "  cont = cont + 1\n",
        "  "
      ],
      "metadata": {
        "id": "gUV1hecYuO-P"
      },
      "execution_count": null,
      "outputs": []
    },
    {
      "cell_type": "markdown",
      "source": [
        "#                                                         EXERCÍCIOS DE VETORES"
      ],
      "metadata": {
        "id": "HgvOKsPNFtbt"
      }
    },
    {
      "cell_type": "markdown",
      "source": [
        "1_Faça um programa que leia um número inteiro positivo N (máximo = 10) e depois N números inteiros\n",
        "e armazene-os em um vetor. Em seguida, mostrar na tela todos os números negativos lidos.\n",
        "\n",
        "Quantos numeros voce vai digitar? 6\n",
        "Digite um numero: 8\n",
        "Digite um numero: -2\n",
        "Digite um numero: 9\n",
        "Digite um numero: 10\n",
        "Digite um numero: -3\n",
        "Digite um numero: -7\n",
        "NUMEROS NEGATIVOS:\n",
        "-2\n",
        "-3\n",
        "-7"
      ],
      "metadata": {
        "id": "bJ2tQB2bF8Uw"
      }
    },
    {
      "cell_type": "code",
      "source": [
        ""
      ],
      "metadata": {
        "id": "JPt4Y2eCF4MY"
      },
      "execution_count": null,
      "outputs": []
    },
    {
      "cell_type": "markdown",
      "source": [
        "2_Faça um programa que leia N números reais e armazene-os em um vetor. Em seguida:\n",
        "- Imprimir todos os elementos do vetor\n",
        "- Mostrar na tela a soma e a média dos elementos do vetor\n",
        "\n",
        "Quantos numeros voce vai digitar? 4\n",
        "Digite um numero: 8.0\n",
        "Digite um numero: 4.0\n",
        "Digite um numero: 10.0\n",
        "Digite um numero: 14.0\n",
        "VALORES = 8.0 4.0 10.0 14.0\n",
        "SOMA = 36.00\n",
        "MEDIA = 9.00"
      ],
      "metadata": {
        "id": "FUHNeE0rGGVU"
      }
    },
    {
      "cell_type": "code",
      "source": [
        ""
      ],
      "metadata": {
        "id": "ki_sokdUGLqI"
      },
      "execution_count": null,
      "outputs": []
    },
    {
      "cell_type": "markdown",
      "source": [
        "3_Fazer um programa para ler nome, idade e altura de N pessoas, conforme exemplo. Depois, mostrar na\n",
        "tela a altura média das pessoas, e mostrar também a porcentagem de pessoas com menos de 16 anos,\n",
        "bem como os nomes dessas pessoas caso houver.\n",
        "\n",
        "Quantas pessoas serao digitadas? 5\n",
        "Dados da 1a pessoa:\n",
        "Nome: Joao\n",
        "Idade: 15\n",
        "Altura: 1.82\n",
        "Dados da 2a pessoa:\n",
        "Nome: Maria\n",
        "Idade: 16\n",
        "Altura: 1.60\n",
        "Dados da 3a pessoa:\n",
        "Nome: Teresa\n",
        "Idade: 14\n",
        "Altura: 1.58\n",
        "Dados da 4a pessoa:\n",
        "Nome: Carlos\n",
        "Idade: 21\n",
        "Altura: 1.65\n",
        "Dados da 5a pessoa:\n",
        "Nome: Paulo\n",
        "Idade: 17\n",
        "Altura: 1.78\n",
        "Altura média: 1.69\n",
        "Pessoas com menos de 16 anos: 40.0%\n",
        "Joao\n",
        "Teresa"
      ],
      "metadata": {
        "id": "LdKLT-QUGMAp"
      }
    },
    {
      "cell_type": "code",
      "source": [
        ""
      ],
      "metadata": {
        "id": "VOgGxB9GGU-p"
      },
      "execution_count": null,
      "outputs": []
    },
    {
      "cell_type": "markdown",
      "source": [
        "4_Faça um programa que leia N números inteiros e armazene-os em um vetor. Em seguida, mostre na\n",
        "tela todos os números pares, e também a quantidade de números pares.\n",
        "\n",
        "Quantos numeros voce vai digitar? 6\n",
        "Digite um numero: 8\n",
        "Digite um numero: 2\n",
        "Digite um numero: 11\n",
        "Digite um numero: 14\n",
        "Digite um numero: 13\n",
        "Digite um numero: 20\n",
        "NUMEROS PARES:\n",
        "8 2 14 20\n",
        "QUANTIDADE DE PARES = 4"
      ],
      "metadata": {
        "id": "xE7MnLX5GVX_"
      }
    },
    {
      "cell_type": "code",
      "source": [
        ""
      ],
      "metadata": {
        "id": "jxqsjBWRGgt5"
      },
      "execution_count": null,
      "outputs": []
    },
    {
      "cell_type": "markdown",
      "source": [
        "5_Faça um programa que leia N números reais e armazene-os em um vetor. Em seguida, mostrar na tela\n",
        "o maior número do vetor (supor não haver empates). Mostrar também a posição do maior elemento,\n",
        "considerando a primeira posição como 0 (zero).\n",
        "\n",
        "Quanto numeros voce vai digitar? 6\n",
        "Digite um numero: 8.0\n",
        "Digite um numero: 4.0\n",
        "Digite um numero: 10.0\n",
        "Digite um numero: 14.0\n",
        "Digite um numero: 13.0\n",
        "Digite um numero: 7.0\n",
        "MAIOR VALOR = 14.0\n",
        "POSICAO DO MAIOR VALOR = 3"
      ],
      "metadata": {
        "id": "2yrwqHQnGjMZ"
      }
    },
    {
      "cell_type": "code",
      "source": [
        ""
      ],
      "metadata": {
        "id": "MhdNQXY-GsvQ"
      },
      "execution_count": null,
      "outputs": []
    },
    {
      "cell_type": "markdown",
      "source": [
        "6_Faça um programa para ler dois vetores A e B, contendo N elementos cada. Em seguida, gere um\n",
        "terceiro vetor C onde cada elemento de C é a soma dos elementos correspondentes de A e B. Imprima\n",
        "o vetor C gerado.\n",
        "\n",
        "Quantos valores vai ter cada vetor? 6\n",
        "Digite os valores do vetor A:\n",
        "8\n",
        "2\n",
        "11\n",
        "14\n",
        "13\n",
        "20\n",
        "Digite os valores do vetor B:\n",
        "5\n",
        "10\n",
        "3\n",
        "1\n",
        "10\n",
        "7\n",
        "VETOR RESULTANTE:\n",
        "13\n",
        "12\n",
        "14\n",
        "15\n",
        "23\n",
        "27"
      ],
      "metadata": {
        "id": "tGHqssjtGtWT"
      }
    },
    {
      "cell_type": "code",
      "source": [
        ""
      ],
      "metadata": {
        "id": "t9PD-KzzG1km"
      },
      "execution_count": null,
      "outputs": []
    },
    {
      "cell_type": "markdown",
      "source": [
        "7_Fazer um programa para ler um número inteiro N e depois um vetor de N números reais. Em seguida,\n",
        "mostrar na tela a média aritmética de todos elementos com três casas decimais. Depois mostrar todos\n",
        "os elementos do vetor que estejam abaixo da média, com uma casa decimal cada.\n",
        "\n",
        "Quantos elementos vai ter o vetor? 4\n",
        "Digite um numero: 10.0\n",
        "Digite um numero: 15.5\n",
        "Digite um numero: 13.2\n",
        "Digite um numero: 9.8\n",
        "MEDIA DO VETOR = 12.125\n",
        "ELEMENTOS ABAIXO DA MEDIA:\n",
        "10.0\n",
        "9.8"
      ],
      "metadata": {
        "id": "7MYiiR6rG2GO"
      }
    },
    {
      "cell_type": "code",
      "source": [
        ""
      ],
      "metadata": {
        "id": "D2OmJFK9G8aF"
      },
      "execution_count": null,
      "outputs": []
    },
    {
      "cell_type": "markdown",
      "source": [
        "8_Fazer um programa para ler um vetor de N números inteiros. Em seguida, mostrar na tela a média\n",
        "aritmética somente dos números pares lidos, com uma casa decimal. Se nenhum número par for\n",
        "digitado, mostrar a mensagem \"NENHUM NUMERO PAR\"\n",
        "\n",
        "Quantos elementos vai ter o vetor? 6\n",
        "Digite um numero: 8\n",
        "Digite um numero: 2\n",
        "Digite um numero: 11\n",
        "Digite um numero: 14\n",
        "Digite um numero: 13\n",
        "Digite um numero: 20\n",
        "MEDIA DOS PARES = 11.0"
      ],
      "metadata": {
        "id": "Zi7iVeuIG81x"
      }
    },
    {
      "cell_type": "code",
      "source": [
        ""
      ],
      "metadata": {
        "id": "YfUNrpXcHDb_"
      },
      "execution_count": null,
      "outputs": []
    },
    {
      "cell_type": "markdown",
      "source": [
        "9_Fazer um programa para ler um conjunto de nomes de pessoas e suas respectivas idades. Os nomes\n",
        "devem ser armazenados em um vetor, e as idades em um outro vetor. Depois, mostrar na tela o nome\n",
        "da pessoa mais velha.\n",
        "\n",
        "Quantas pessoas voce vai digitar? 5\n",
        "Dados da 1a pessoa:\n",
        "Nome: Joao\n",
        "Idade: 16\n",
        "Dados da 2a pessoa:\n",
        "Nome: Maria\n",
        "Idade: 21\n",
        "Dados da 3a pessoa:\n",
        "Nome: Teresa\n",
        "Idade: 15"
      ],
      "metadata": {
        "id": "FVBbAVU7HDpP"
      }
    },
    {
      "cell_type": "code",
      "source": [
        ""
      ],
      "metadata": {
        "id": "7tVQdgRCHJpw"
      },
      "execution_count": null,
      "outputs": []
    },
    {
      "cell_type": "markdown",
      "source": [
        "10-Fazer um programa para ler um conjunto de N nomes de alunos, bem como as notas que eles tiraram\n",
        "no 1º e 2º semestres. Cada uma dessas informações deve ser armazenada em um vetor. Depois, imprimir\n",
        "os nomes dos alunos aprovados, considerando aprovados aqueles cuja média das notas seja maior ou\n",
        "igual a 6.0 (seis).\n",
        "\n",
        "Quantos alunos serao digitados? 4\n",
        "Digite nome, primeira e segunda nota do 1o aluno:\n",
        "Joao Silva\n",
        "7.0\n",
        "8.5\n",
        "Digite nome, primeira e segunda nota do 2o aluno:\n",
        "Maria Teixeira\n",
        "9.2\n",
        "6.5\n",
        "Digite nome, primeira e segunda nota do 3o aluno:\n",
        "Carlos Carvalho\n",
        "5.0\n",
        "6.0\n",
        "Digite nome, primeira e segunda nota do 4o aluno:\n",
        "Teresa Pires\n",
        "5.5\n",
        "6.5\n",
        "Alunos aprovados:\n",
        "Joao Silva\n",
        "Maria Teixeira\n",
        "Teresa Pires"
      ],
      "metadata": {
        "id": "3U0UYbuuHKFb"
      }
    },
    {
      "cell_type": "code",
      "source": [
        ""
      ],
      "metadata": {
        "id": "vqQIWYTtHU2p"
      },
      "execution_count": null,
      "outputs": []
    },
    {
      "cell_type": "markdown",
      "source": [
        "11_Tem-se um conjunto de dados contendo a altura e o gênero (M, F) de N pessoas. Fazer um programa\n",
        "que calcule e escreva a maior e a menor altura do grupo, a média de altura das mulheres, e o número\n",
        "de homens.\n",
        "\n",
        "Quantas pessoas serao digitadas? 5\n",
        "Altura da 1a pessoa: 1.70\n",
        "Genero da 1a pessoa: F\n",
        "Altura da 2a pessoa: 1.83\n",
        "Genero da 2a pessoa: M\n",
        "Altura da 3a pessoa: 1.54\n",
        "Genero da 3a pessoa: M\n",
        "Altura da 4a pessoa: 1.61"
      ],
      "metadata": {
        "id": "_Czam7CPHVZn"
      }
    },
    {
      "cell_type": "code",
      "source": [
        ""
      ],
      "metadata": {
        "id": "vAeQAJi9HY2R"
      },
      "execution_count": null,
      "outputs": []
    },
    {
      "cell_type": "markdown",
      "source": [
        "12_Um comerciante deseja fazer o levantamento do lucro das mercadorias que ele comercializa. Para isto,\n",
        "mandou digitar um conjunto de N mercadorias, cada uma contendo nome, preço de compra e preço de\n",
        "venda das mesmas. Fazer um programa que leia tais dados e determine e escreva quantas mercadorias\n",
        "proporcionaram:\n",
        " lucro < 10%\n",
        " 10% ≤ lucro ≤ 20%\n",
        " lucro > 20%\n",
        "Determine e escreva também o valor total de compra e de venda de todas as mercadorias, assim como\n",
        "o lucro total.\n",
        "\n",
        "Serao digitados dados de quantos produtos? 4\n",
        "Produto 1:\n",
        "Nome: Feijao\n",
        "Preco de compra: 10.00\n",
        "Preco de venda: 11.00\n",
        "Produto 2:\n",
        "Nome: Arroz\n",
        "Preco de compra: 12.00\n",
        "Preco de venda: 12.80\n",
        "Produto 3:\n",
        "Nome: Oleo\n",
        "Preco de compra:\n",
        "Preco de venda: 5.00\n",
        "Preco de venda: 5.70\n",
        "Produto 4:\n",
        "Nome: Sal\n",
        "Preco de compra: 3.00\n",
        "Preco de venda: 4.00\n",
        "RELATORIO:\n",
        "Lucro abaixo de 10%: 1\n",
        "Lucro entre 10% e 20%: 2\n",
        "Lucro acima de 20%: 1\n",
        "Valor total de compra: 30.00\n",
        "Valor total de venda: 33.50\n",
        "Lucro total: 3.50"
      ],
      "metadata": {
        "id": "ocJ3qJtlHZDS"
      }
    },
    {
      "cell_type": "code",
      "source": [
        ""
      ],
      "metadata": {
        "id": "8Uc-nYcaHhY5"
      },
      "execution_count": null,
      "outputs": []
    }
  ]
}